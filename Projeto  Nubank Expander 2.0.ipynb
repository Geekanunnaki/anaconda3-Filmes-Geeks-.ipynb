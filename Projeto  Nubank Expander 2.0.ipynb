{
 "cells": [
  {
   "cell_type": "code",
   "execution_count": 1,
   "id": "e79925bf",
   "metadata": {},
   "outputs": [],
   "source": [
    "Projeto_Nubank = (\" Nubank Expander 2.0 \") "
   ]
  },
  {
   "cell_type": "code",
   "execution_count": 2,
   "id": "ecb2af2c",
   "metadata": {},
   "outputs": [
    {
     "name": "stdout",
     "output_type": "stream",
     "text": [
      " Nubank Expander 2.0 \n"
     ]
    }
   ],
   "source": [
    "print (Projeto_Nubank)"
   ]
  },
  {
   "cell_type": "code",
   "execution_count": 3,
   "id": "43c32c69",
   "metadata": {},
   "outputs": [
    {
     "name": "stdout",
     "output_type": "stream",
     "text": [
      "Cartão no Metaverso , para comprar itens como Nulojas, roupas, eletrônicos , Nuvegan produtos Veganos \n"
     ]
    }
   ],
   "source": [
    "Projeto_Nubank = (\"Cartão no Metaverso , para comprar itens como Nulojas, roupas, eletrônicos , Nuvegan produtos Veganos \")\n",
    "print (Projeto_Nubank)"
   ]
  },
  {
   "cell_type": "code",
   "execution_count": 4,
   "id": "d90edc14",
   "metadata": {},
   "outputs": [
    {
     "name": "stdout",
     "output_type": "stream",
     "text": [
      "Servidor em Cloud , óculos Virtual Nuglass para conectar o usuário ao Nubank expander 2.0 \n"
     ]
    }
   ],
   "source": [
    "Projeto_Nubank = (\"Servidor em Cloud , óculos Virtual Nuglass para conectar o usuário ao Nubank expander 2.0 \") \n",
    "print (Projeto_Nubank)"
   ]
  },
  {
   "cell_type": "code",
   "execution_count": 5,
   "id": "374ba548",
   "metadata": {},
   "outputs": [
    {
     "name": "stdout",
     "output_type": "stream",
     "text": [
      "Para usuário acessar o Metaverso exigira um token com chave Criptografada Nutoken\n"
     ]
    }
   ],
   "source": [
    "Projeto_Nubank = (\"Para usuário acessar o Metaverso exigira um token com chave Criptografada Nutoken\")  \n",
    "print(Projeto_Nubank) "
   ]
  },
  {
   "cell_type": "code",
   "execution_count": 6,
   "id": "091aeda2",
   "metadata": {},
   "outputs": [
    {
     "name": "stdout",
     "output_type": "stream",
     "text": [
      "Nutoken em formas Virtual ,Físico , Aplicativo\n"
     ]
    }
   ],
   "source": [
    "Nutoken_ID = (\"Nutoken em formas Virtual ,Físico , Aplicativo\")\n",
    "print (Nutoken_ID)"
   ]
  },
  {
   "cell_type": "code",
   "execution_count": null,
   "id": "6fe84ef0",
   "metadata": {},
   "outputs": [],
   "source": [
    "Nutoken_ID = ()"
   ]
  }
 ],
 "metadata": {
  "kernelspec": {
   "display_name": "Python 3 (ipykernel)",
   "language": "python",
   "name": "python3"
  },
  "language_info": {
   "codemirror_mode": {
    "name": "ipython",
    "version": 3
   },
   "file_extension": ".py",
   "mimetype": "text/x-python",
   "name": "python",
   "nbconvert_exporter": "python",
   "pygments_lexer": "ipython3",
   "version": "3.9.7"
  }
 },
 "nbformat": 4,
 "nbformat_minor": 5
}
