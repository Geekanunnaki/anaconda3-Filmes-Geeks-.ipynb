{
 "cells": [
  {
   "cell_type": "code",
   "execution_count": 1,
   "id": "c8ee7592",
   "metadata": {},
   "outputs": [
    {
     "name": "stdout",
     "output_type": "stream",
     "text": [
      "peças, motor , espelho , retrovisor , rodas , lanternas , farol , kit multimidia , volante \n"
     ]
    }
   ],
   "source": [
    "BMW_Highteck = (\"peças, motor , espelho , retrovisor , rodas , lanternas , farol , kit multimidia , volante \") \n",
    "print ( BMW_Highteck )"
   ]
  },
  {
   "cell_type": "code",
   "execution_count": 2,
   "id": "3b4dd629",
   "metadata": {},
   "outputs": [
    {
     "name": "stdout",
     "output_type": "stream",
     "text": [
      "todos os modelos , x1,x5,x6 , m3, m5 ,\n"
     ]
    }
   ],
   "source": [
    "BMW_Highteck = (\"todos os modelos , x1,x5,x6 , m3, m5 ,\")\n",
    "print (BMW_Highteck)"
   ]
  },
  {
   "cell_type": "code",
   "execution_count": 3,
   "id": "e394aa11",
   "metadata": {},
   "outputs": [],
   "source": [
    "peças_highteck = (\"motor , disco de freio , espelho , painel , rodas , lanternas , farol , kit multimidia \")"
   ]
  },
  {
   "cell_type": "code",
   "execution_count": 4,
   "id": "28a248ed",
   "metadata": {},
   "outputs": [
    {
     "name": "stdout",
     "output_type": "stream",
     "text": [
      "motor , disco de freio , espelho , painel , rodas , lanternas , farol , kit multimidia \n"
     ]
    }
   ],
   "source": [
    "print (peças_highteck)"
   ]
  },
  {
   "cell_type": "code",
   "execution_count": 5,
   "id": "c5b12a5f",
   "metadata": {},
   "outputs": [
    {
     "name": "stdout",
     "output_type": "stream",
     "text": [
      " 30 unidades disco de freio\n"
     ]
    }
   ],
   "source": [
    "peças_estoque = (\" 30 unidades disco de freio\")\n",
    "print (peças_estoque)"
   ]
  },
  {
   "cell_type": "code",
   "execution_count": 6,
   "id": "6e227f48",
   "metadata": {},
   "outputs": [
    {
     "name": "stdout",
     "output_type": "stream",
     "text": [
      "60 unidades farol\n"
     ]
    }
   ],
   "source": [
    "peças_estoque = (\"60 unidades farol\")\n",
    "print (peças_estoque)"
   ]
  },
  {
   "cell_type": "code",
   "execution_count": 7,
   "id": "c64bd853",
   "metadata": {},
   "outputs": [
    {
     "name": "stdout",
     "output_type": "stream",
     "text": [
      " 45 unidades painel \n"
     ]
    }
   ],
   "source": [
    "peças_estoque = (\" 45 unidades painel \")\n",
    "print (peças_estoque)\n"
   ]
  },
  {
   "cell_type": "code",
   "execution_count": 8,
   "id": "b7ecc52f",
   "metadata": {},
   "outputs": [
    {
     "name": "stdout",
     "output_type": "stream",
     "text": [
      "62 unidades , disco de freio \n"
     ]
    }
   ],
   "source": [
    "peças_estoque = (\"62 unidades , disco de freio \")\n",
    "print (peças_estoque)"
   ]
  },
  {
   "cell_type": "code",
   "execution_count": 9,
   "id": "32a21b4b",
   "metadata": {},
   "outputs": [],
   "source": [
    "peças_estoque = (\"64 unidades , epelho \")"
   ]
  },
  {
   "cell_type": "code",
   "execution_count": 10,
   "id": "abc23ba7",
   "metadata": {},
   "outputs": [
    {
     "name": "stdout",
     "output_type": "stream",
     "text": [
      "64 unidades , epelho \n"
     ]
    }
   ],
   "source": [
    "print (peças_estoque)"
   ]
  },
  {
   "cell_type": "code",
   "execution_count": 11,
   "id": "f9165784",
   "metadata": {},
   "outputs": [
    {
     "name": "stdout",
     "output_type": "stream",
     "text": [
      "68 unidades , rodas \n"
     ]
    }
   ],
   "source": [
    "peças_estoque = (\"68 unidades , rodas \")\n",
    "print (peças_estoque)"
   ]
  },
  {
   "cell_type": "code",
   "execution_count": 12,
   "id": "5d1fd477",
   "metadata": {},
   "outputs": [
    {
     "name": "stdout",
     "output_type": "stream",
     "text": [
      "70 unidades \n"
     ]
    }
   ],
   "source": [
    "peças_estoque = (\"70 unidades \")\n",
    "print (peças_estoque)"
   ]
  },
  {
   "cell_type": "code",
   "execution_count": 13,
   "id": "701f844b",
   "metadata": {},
   "outputs": [
    {
     "name": "stdout",
     "output_type": "stream",
     "text": [
      " 80 unidades , lanternas \n"
     ]
    }
   ],
   "source": [
    "peças_estoque = (\" 80 unidades , lanternas \")\n",
    "print (peças_estoque)"
   ]
  },
  {
   "cell_type": "code",
   "execution_count": 14,
   "id": "ad009c2c",
   "metadata": {},
   "outputs": [
    {
     "name": "stdout",
     "output_type": "stream",
     "text": [
      "84 unidades lanternas \n"
     ]
    }
   ],
   "source": [
    "peças_estoque = (\"84 unidades lanternas \")\n",
    "print (peças_estoque )"
   ]
  },
  {
   "cell_type": "code",
   "execution_count": 15,
   "id": "66a13dc8",
   "metadata": {},
   "outputs": [
    {
     "name": "stdout",
     "output_type": "stream",
     "text": [
      "86 unidades motor \n"
     ]
    }
   ],
   "source": [
    "peças_estoque = (\"86 unidades motor \")\n",
    "print (peças_estoque)"
   ]
  },
  {
   "cell_type": "code",
   "execution_count": 16,
   "id": "148854ea",
   "metadata": {},
   "outputs": [
    {
     "name": "stdout",
     "output_type": "stream",
     "text": [
      "89 unidades kit multimidia \n"
     ]
    }
   ],
   "source": [
    "peças_estoque = (\"89 unidades kit multimidia \")\n",
    "print (peças_estoque )"
   ]
  },
  {
   "cell_type": "code",
   "execution_count": 17,
   "id": "a5dd63ea",
   "metadata": {},
   "outputs": [
    {
     "name": "stdout",
     "output_type": "stream",
     "text": [
      "92 unidades volante\n"
     ]
    }
   ],
   "source": [
    "peças_estoque = (\"92 unidades volante\")\n",
    "print (peças_estoque)"
   ]
  },
  {
   "cell_type": "code",
   "execution_count": 1,
   "id": "140a8076",
   "metadata": {},
   "outputs": [],
   "source": [
    "peças_estoque = (\"Valor individual de cada peça\") "
   ]
  },
  {
   "cell_type": "code",
   "execution_count": 2,
   "id": "a1c0eed3",
   "metadata": {},
   "outputs": [
    {
     "name": "stdout",
     "output_type": "stream",
     "text": [
      "Valor individual de cada peça\n"
     ]
    }
   ],
   "source": [
    "print (peças_estoque)"
   ]
  },
  {
   "cell_type": "code",
   "execution_count": 3,
   "id": "c73fbe1c",
   "metadata": {},
   "outputs": [
    {
     "name": "stdout",
     "output_type": "stream",
     "text": [
      " if peças for > que R$280,00 automaticamente  desconto 10% \n"
     ]
    }
   ],
   "source": [
    "BMW_Highteck = (\" if peças for > que R$280,00 automaticamente  desconto 10% \")\n",
    "print (BMW_Highteck)"
   ]
  },
  {
   "cell_type": "code",
   "execution_count": 4,
   "id": "ca36371b",
   "metadata": {},
   "outputs": [
    {
     "name": "stdout",
     "output_type": "stream",
     "text": [
      " if peças for < que R$ 280,00 automanticamente desconto 5%\n"
     ]
    }
   ],
   "source": [
    "BMW_Highteck = (\" if peças for < que R$ 280,00 automanticamente desconto 5%\")\n",
    "print (BMW_Highteck)"
   ]
  },
  {
   "cell_type": "code",
   "execution_count": 5,
   "id": "4ecffeeb",
   "metadata": {},
   "outputs": [
    {
     "name": "stdout",
     "output_type": "stream",
     "text": [
      " peças quando estiver acabando no estoque chegar a 5  ativar um alerta atraves , de lembrete na tela\n"
     ]
    }
   ],
   "source": [
    "BMW_Highteck = (\" peças quando estiver acabando no estoque chegar a 5  ativar um alerta atraves , de lembrete na tela\")\n",
    "print (BMW_Highteck)"
   ]
  },
  {
   "cell_type": "code",
   "execution_count": 6,
   "id": "cba1464a",
   "metadata": {},
   "outputs": [
    {
     "name": "stdout",
     "output_type": "stream",
     "text": [
      " quando estiver acabando , estoque chegar 5 peças ,receber aviso sms ,whatsapp , aviso na tela\n"
     ]
    }
   ],
   "source": [
    "peças_estoque = (\" quando estiver acabando , estoque chegar 5 peças ,receber aviso sms ,whatsapp , aviso na tela\")\n",
    "print (peças_estoque)"
   ]
  },
  {
   "cell_type": "code",
   "execution_count": 7,
   "id": "466fe75e",
   "metadata": {},
   "outputs": [
    {
     "name": "stdout",
     "output_type": "stream",
     "text": [
      "inserir tabela xls com os dados das peças \n"
     ]
    }
   ],
   "source": [
    "peças_estoque = (\"inserir tabela xls com os dados das peças \")\n",
    "print (peças_estoque)"
   ]
  },
  {
   "cell_type": "code",
   "execution_count": 9,
   "id": "9f3c14ac",
   "metadata": {},
   "outputs": [
    {
     "name": "stdout",
     "output_type": "stream",
     "text": [
      "banco de dados , peças estoque , verificar todas as peças, por nomes , codigos de barra , QR code\n"
     ]
    }
   ],
   "source": [
    "peças_estoque = (\"banco de dados , peças estoque , verificar todas as peças, por nomes , codigos de barra , QR code\")\n",
    "print (peças_estoque)"
   ]
  },
  {
   "cell_type": "code",
   "execution_count": 10,
   "id": "90b86b0a",
   "metadata": {},
   "outputs": [
    {
     "name": "stdout",
     "output_type": "stream",
     "text": [
      " fotos de cada peças , mostrar no Website , if cliente ,localizar peças mostrar imagem , com $ valor\n"
     ]
    }
   ],
   "source": [
    "peças_imagens = (\" fotos de cada peças , mostrar no Website , if cliente ,localizar peças mostrar imagem , com $ valor\")\n",
    "print (peças_imagens)"
   ]
  },
  {
   "cell_type": "code",
   "execution_count": 11,
   "id": "24b10f9f",
   "metadata": {},
   "outputs": [
    {
     "name": "stdout",
     "output_type": "stream",
     "text": [
      " qualqer alteração , atualização de versão  no software somente o Desenvolvedor podera altera las \n"
     ]
    }
   ],
   "source": [
    "peças_ID = (\" qualqer alteração , atualização de versão  no software somente o Desenvolvedor podera altera las \")\n",
    "print (peças_ID)"
   ]
  },
  {
   "cell_type": "code",
   "execution_count": 12,
   "id": "51afb5f5",
   "metadata": {},
   "outputs": [
    {
     "name": "stdout",
     "output_type": "stream",
     "text": [
      " alteração no software através de senha \n"
     ]
    }
   ],
   "source": [
    "peças_ID = (\" alteração no software através de senha \")\n",
    "print (peças_ID)"
   ]
  },
  {
   "cell_type": "code",
   "execution_count": null,
   "id": "be49d91b",
   "metadata": {},
   "outputs": [],
   "source": []
  }
 ],
 "metadata": {
  "kernelspec": {
   "display_name": "Python 3 (ipykernel)",
   "language": "python",
   "name": "python3"
  },
  "language_info": {
   "codemirror_mode": {
    "name": "ipython",
    "version": 3
   },
   "file_extension": ".py",
   "mimetype": "text/x-python",
   "name": "python",
   "nbconvert_exporter": "python",
   "pygments_lexer": "ipython3",
   "version": "3.9.7"
  }
 },
 "nbformat": 4,
 "nbformat_minor": 5
}
