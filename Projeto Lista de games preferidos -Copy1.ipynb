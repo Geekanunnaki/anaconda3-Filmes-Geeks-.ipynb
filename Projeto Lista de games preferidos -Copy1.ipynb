{
 "cells": [
  {
   "cell_type": "code",
   "execution_count": 1,
   "id": "f5e71e20",
   "metadata": {},
   "outputs": [
    {
     "name": "stdout",
     "output_type": "stream",
     "text": [
      "games preferidos\n"
     ]
    }
   ],
   "source": [
    "geek_games = (\"games preferidos\") \n",
    "print (geek_games)"
   ]
  },
  {
   "cell_type": "code",
   "execution_count": 2,
   "id": "86b36f06",
   "metadata": {},
   "outputs": [
    {
     "name": "stdout",
     "output_type": "stream",
     "text": [
      "Lista , gears of wars , alan wake , halo 3 , fear 2 project origins , dead space, resident evil 7,silent hill homecoming\n"
     ]
    }
   ],
   "source": [
    "geek_games = (\"Lista , gears of wars , alan wake , halo 3 , fear 2 project origins , dead space, resident evil 7,silent hill homecoming\")\n",
    "print (geek_games )"
   ]
  },
  {
   "cell_type": "code",
   "execution_count": 3,
   "id": "82a13299",
   "metadata": {},
   "outputs": [
    {
     "name": "stdout",
     "output_type": "stream",
     "text": [
      " generos de games \n"
     ]
    }
   ],
   "source": [
    "geek_games = (\" generos de games \")\n",
    "print (geek_games)"
   ]
  },
  {
   "cell_type": "code",
   "execution_count": 4,
   "id": "70d3c1d1",
   "metadata": {},
   "outputs": [
    {
     "name": "stdout",
     "output_type": "stream",
     "text": [
      " terror ,RPG , ação , aventura \n"
     ]
    }
   ],
   "source": [
    "geek_games = (\" terror ,RPG , ação , aventura \")\n",
    "print (geek_games )"
   ]
  },
  {
   "cell_type": "code",
   "execution_count": 5,
   "id": "eba01e58",
   "metadata": {},
   "outputs": [
    {
     "name": "stdout",
     "output_type": "stream",
     "text": [
      " dead space , silent hill homecoming , resident evil 7 \n"
     ]
    }
   ],
   "source": [
    "game_terror = (\" dead space , silent hill homecoming , resident evil 7 \")\n",
    "print (game_terror)\n"
   ]
  },
  {
   "cell_type": "code",
   "execution_count": 6,
   "id": "0384126b",
   "metadata": {},
   "outputs": [
    {
     "name": "stdout",
     "output_type": "stream",
     "text": [
      "alan wake , fear 2 project origins , \n"
     ]
    }
   ],
   "source": [
    "game_RPG = (\"alan wake , fear 2 project origins , \")\n",
    "print (game_RPG)"
   ]
  },
  {
   "cell_type": "code",
   "execution_count": 7,
   "id": "f79a6429",
   "metadata": {},
   "outputs": [
    {
     "name": "stdout",
     "output_type": "stream",
     "text": [
      "halo 3 , gears of wars \n"
     ]
    }
   ],
   "source": [
    "game_ação = (\"halo 3 , gears of wars \")\n",
    "print (game_ação)"
   ]
  },
  {
   "cell_type": "code",
   "execution_count": null,
   "id": "045ebaf6",
   "metadata": {},
   "outputs": [],
   "source": []
  },
  {
   "cell_type": "code",
   "execution_count": null,
   "id": "5a245403",
   "metadata": {},
   "outputs": [],
   "source": []
  }
 ],
 "metadata": {
  "kernelspec": {
   "display_name": "Python 3 (ipykernel)",
   "language": "python",
   "name": "python3"
  },
  "language_info": {
   "codemirror_mode": {
    "name": "ipython",
    "version": 3
   },
   "file_extension": ".py",
   "mimetype": "text/x-python",
   "name": "python",
   "nbconvert_exporter": "python",
   "pygments_lexer": "ipython3",
   "version": "3.9.7"
  },
  "widgets": {
   "application/vnd.jupyter.widget-state+json": {
    "state": {},
    "version_major": 2,
    "version_minor": 0
   }
  }
 },
 "nbformat": 4,
 "nbformat_minor": 5
}
